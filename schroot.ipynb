{
 "metadata": {
  "name": "",
  "signature": "sha256:507e4dc5068e3bf583c69846bc4ccd40a6ea24ab176e2238ea1704e0224f7b06"
 },
 "nbformat": 3,
 "nbformat_minor": 0,
 "worksheets": [
  {
   "cells": [
    {
     "cell_type": "markdown",
     "metadata": {},
     "source": [
      "## Creating a \"directory\" schroot"
     ]
    },
    {
     "cell_type": "code",
     "collapsed": false,
     "input": [
      "!rm -rf /var/spool/jails/sid-jail\n",
      "!mkdir -p /var/spool/jails/sid-jail"
     ],
     "language": "python",
     "metadata": {},
     "outputs": [],
     "prompt_number": 7
    },
    {
     "cell_type": "markdown",
     "metadata": {},
     "source": [
      "### Config for jail"
     ]
    },
    {
     "cell_type": "code",
     "collapsed": false,
     "input": [
      "%%file /etc/schroot/chroot.d/sample\n",
      "\n",
      "[sid-jail]\n",
      "description=Debian sid jail\n",
      "directory=/var/spool/jails/sid-jail\n",
      "setup.fstab=default/fstab"
     ],
     "language": "python",
     "metadata": {},
     "outputs": [
      {
       "output_type": "stream",
       "stream": "stdout",
       "text": [
        "Overwriting /etc/schroot/chroot.d/sample\n"
       ]
      }
     ],
     "prompt_number": 15
    },
    {
     "cell_type": "markdown",
     "metadata": {},
     "source": [
      "## Installing base system"
     ]
    },
    {
     "cell_type": "code",
     "collapsed": false,
     "input": [
      "!debootstrap --variant=buildd unstable /var/spool/jails/sid-jail http://babel.esi.uclm.es/debian"
     ],
     "language": "python",
     "metadata": {},
     "outputs": [
      {
       "output_type": "stream",
       "stream": "stdout",
       "text": [
        "I: Retrieving Release \r\n"
       ]
      },
      {
       "output_type": "stream",
       "stream": "stdout",
       "text": [
        "I: Retrieving Release.gpg \r\n"
       ]
      },
      {
       "output_type": "stream",
       "stream": "stdout",
       "text": [
        "I: Checking Release signature\r\n"
       ]
      },
      {
       "output_type": "stream",
       "stream": "stdout",
       "text": [
        "I: Valid Release signature (key id A1BD8E9D78F7FE5C3E65D8AF8B48AD6246925553)\r\n"
       ]
      },
      {
       "output_type": "stream",
       "stream": "stdout",
       "text": [
        "I: Retrieving Packages \r\n"
       ]
      },
      {
       "output_type": "stream",
       "stream": "stdout",
       "text": [
        "I: Validating Packages \r\n"
       ]
      },
      {
       "output_type": "stream",
       "stream": "stdout",
       "text": [
        "I: Resolving dependencies of required packages...\r\n"
       ]
      },
      {
       "output_type": "stream",
       "stream": "stdout",
       "text": [
        "I: Resolving dependencies of base packages...\r\n"
       ]
      },
      {
       "output_type": "stream",
       "stream": "stdout",
       "text": [
        "I: Found additional required dependencies: acl adduser dmsetup insserv libaudit-common libaudit1 libbz2-1.0 libcap2 libcap2-bin libcryptsetup4 libdb5.3 libdebconfclient0 libdevmapper1.02.1 libgcrypt20 libgpg-error0 libkmod2 libncursesw5 libprocps3 libsemanage-common libsemanage1 libslang2 libsystemd0 libudev1 libustr-1.0-1 procps systemd systemd-sysv udev \r\n",
        "I: Found additional base dependencies: binutils bzip2 cpp cpp-4.9 debian-archive-keyring dpkg-dev g++ g++-4.9 gcc gcc-4.9 gnupg gpgv libapt-pkg4.12 libasan1 libatomic1 libc-dev-bin libc6-dev libcilkrts5 libcloog-isl4 libdpkg-perl libgcc-4.9-dev libgdbm3 libgmp10 libgomp1 libisl10 libitm1 liblsan0 libmpc3 libmpfr4 libquadmath0 libreadline6 libstdc++-4.9-dev libstdc++6 libtimedate-perl libtsan0 libubsan0 libusb-0.1-4 linux-libc-dev make patch perl perl-modules readline-common xz-utils \r\n",
        "I: Checking component main on http://babel.esi.uclm.es/debian...\r\n"
       ]
      },
      {
       "output_type": "stream",
       "stream": "stdout",
       "text": [
        "I: Retrieving acl 2.2.52-2\r\n",
        "I: Validating acl 2.2.52-2\r\n",
        "I: Retrieving libacl1 2.2.52-2\r\n",
        "I: Validating libacl1 2.2.52-2\r\n",
        "I: Retrieving adduser 3.113+nmu3\r\n"
       ]
      },
      {
       "output_type": "stream",
       "stream": "stdout",
       "text": [
        "I: Validating adduser 3.113+nmu3\r\n"
       ]
      },
      {
       "output_type": "stream",
       "stream": "stdout",
       "text": [
        "I: Retrieving apt 1.0.9.3\r\n"
       ]
      },
      {
       "output_type": "stream",
       "stream": "stdout",
       "text": [
        "I: Validating apt 1.0.9.3\r\n",
        "I: Retrieving libapt-pkg4.12 1.0.9.3\r\n"
       ]
      },
      {
       "output_type": "stream",
       "stream": "stdout",
       "text": [
        "I: Validating libapt-pkg4.12 1.0.9.3\r\n",
        "I: Retrieving libattr1 1:2.4.47-2\r\n",
        "I: Validating libattr1 1:2.4.47-2\r\n",
        "I: Retrieving libaudit-common 1:2.4-1\r\n"
       ]
      },
      {
       "output_type": "stream",
       "stream": "stdout",
       "text": [
        "I: Validating libaudit-common 1:2.4-1\r\n",
        "I: Retrieving libaudit1 1:2.4-1\r\n",
        "I: Validating libaudit1 1:2.4-1\r\n",
        "I: Retrieving base-files 7.10\r\n"
       ]
      },
      {
       "output_type": "stream",
       "stream": "stdout",
       "text": [
        "I: Validating base-files 7.10\r\n",
        "I: Retrieving base-passwd 3.5.37\r\n",
        "I: Validating base-passwd 3.5.37\r\n"
       ]
      },
      {
       "output_type": "stream",
       "stream": "stdout",
       "text": [
        "I: Retrieving bash 4.3-11+b1\r\n"
       ]
      },
      {
       "output_type": "stream",
       "stream": "stdout",
       "text": [
        "I: Validating bash 4.3-11+b1\r\n"
       ]
      },
      {
       "output_type": "stream",
       "stream": "stdout",
       "text": [
        "I: Retrieving binutils 2.24.90.20141111-2\r\n"
       ]
      },
      {
       "output_type": "stream",
       "stream": "stdout",
       "text": [
        "I: Validating binutils 2.24.90.20141111-2\r\n"
       ]
      },
      {
       "output_type": "stream",
       "stream": "stdout",
       "text": [
        "I: Retrieving build-essential 11.7\r\n",
        "I: Validating build-essential 11.7\r\n",
        "I: Retrieving bzip2 1.0.6-7+b1\r\n",
        "I: Validating bzip2 1.0.6-7+b1\r\n"
       ]
      },
      {
       "output_type": "stream",
       "stream": "stdout",
       "text": [
        "I: Retrieving libbz2-1.0 1.0.6-7+b1\r\n",
        "I: Validating libbz2-1.0 1.0.6-7+b1\r\n",
        "I: Retrieving libdebconfclient0 0.192\r\n"
       ]
      },
      {
       "output_type": "stream",
       "stream": "stdout",
       "text": [
        "I: Validating libdebconfclient0 0.192\r\n",
        "I: Retrieving libcloog-isl4 0.18.2-1\r\n",
        "I: Validating libcloog-isl4 0.18.2-1\r\n"
       ]
      },
      {
       "output_type": "stream",
       "stream": "stdout",
       "text": [
        "I: Retrieving coreutils 8.23-3\r\n"
       ]
      },
      {
       "output_type": "stream",
       "stream": "stdout",
       "text": [
        "I: Validating coreutils 8.23-3\r\n"
       ]
      },
      {
       "output_type": "stream",
       "stream": "stdout",
       "text": [
        "I: Retrieving libcryptsetup4 2:1.6.6-3\r\n"
       ]
      },
      {
       "output_type": "stream",
       "stream": "stdout",
       "text": [
        "I: Validating libcryptsetup4 2:1.6.6-3\r\n",
        "I: Retrieving dash 0.5.7-4+b1\r\n",
        "I: Validating dash 0.5.7-4+b1\r\n"
       ]
      },
      {
       "output_type": "stream",
       "stream": "stdout",
       "text": [
        "I: Retrieving libdb5.3 5.3.28-6\r\n"
       ]
      },
      {
       "output_type": "stream",
       "stream": "stdout",
       "text": [
        "I: Validating libdb5.3 5.3.28-6\r\n",
        "I: Retrieving debconf 1.5.53\r\n"
       ]
      },
      {
       "output_type": "stream",
       "stream": "stdout",
       "text": [
        "I: Validating debconf 1.5.53\r\n",
        "I: Retrieving debconf-i18n 1.5.53\r\n"
       ]
      },
      {
       "output_type": "stream",
       "stream": "stdout",
       "text": [
        "I: Validating debconf-i18n 1.5.53\r\n",
        "I: Retrieving debian-archive-keyring 2014.1\r\n"
       ]
      },
      {
       "output_type": "stream",
       "stream": "stdout",
       "text": [
        "I: Validating debian-archive-keyring 2014.1\r\n",
        "I: Retrieving debianutils 4.4+b1\r\n",
        "I: Validating debianutils 4.4+b1\r\n"
       ]
      },
      {
       "output_type": "stream",
       "stream": "stdout",
       "text": [
        "I: Retrieving diffutils 1:3.3-1+b1\r\n",
        "I: Validating diffutils 1:3.3-1+b1\r\n"
       ]
      },
      {
       "output_type": "stream",
       "stream": "stdout",
       "text": [
        "I: Retrieving dpkg 1.17.21\r\n"
       ]
      },
      {
       "output_type": "stream",
       "stream": "stdout",
       "text": [
        "I: Validating dpkg 1.17.21\r\n"
       ]
      },
      {
       "output_type": "stream",
       "stream": "stdout",
       "text": [
        "I: Retrieving dpkg-dev 1.17.21\r\n"
       ]
      },
      {
       "output_type": "stream",
       "stream": "stdout",
       "text": [
        "I: Validating dpkg-dev 1.17.21\r\n"
       ]
      },
      {
       "output_type": "stream",
       "stream": "stdout",
       "text": [
        "I: Retrieving libdpkg-perl 1.17.21\r\n"
       ]
      },
      {
       "output_type": "stream",
       "stream": "stdout",
       "text": [
        "I: Validating libdpkg-perl 1.17.21\r\n"
       ]
      },
      {
       "output_type": "stream",
       "stream": "stdout",
       "text": [
        "I: Retrieving e2fslibs 1.42.12-1\r\n",
        "I: Validating e2fslibs 1.42.12-1\r\n",
        "I: Retrieving e2fsprogs 1.42.12-1\r\n"
       ]
      },
      {
       "output_type": "stream",
       "stream": "stdout",
       "text": [
        "I: Validating e2fsprogs 1.42.12-1\r\n",
        "I: Retrieving libcomerr2 1.42.12-1\r\n"
       ]
      },
      {
       "output_type": "stream",
       "stream": "stdout",
       "text": [
        "I: Validating libcomerr2 1.42.12-1\r\n",
        "I: Retrieving libss2 1.42.12-1\r\n",
        "I: Validating libss2 1.42.12-1\r\n"
       ]
      },
      {
       "output_type": "stream",
       "stream": "stdout",
       "text": [
        "I: Retrieving findutils 4.4.2-9+b1\r\n"
       ]
      },
      {
       "output_type": "stream",
       "stream": "stdout",
       "text": [
        "I: Validating findutils 4.4.2-9+b1\r\n",
        "I: Retrieving gcc-4.7-base 4.7.4-3\r\n"
       ]
      },
      {
       "output_type": "stream",
       "stream": "stdout",
       "text": [
        "I: Validating gcc-4.7-base 4.7.4-3\r\n",
        "I: Retrieving gcc-4.8-base 4.8.3-13\r\n",
        "I: Validating gcc-4.8-base 4.8.3-13\r\n"
       ]
      },
      {
       "output_type": "stream",
       "stream": "stdout",
       "text": [
        "I: Retrieving cpp-4.9 4.9.2-2\r\n"
       ]
      },
      {
       "output_type": "stream",
       "stream": "stdout",
       "text": [
        "I: Validating cpp-4.9 4.9.2-2\r\n"
       ]
      },
      {
       "output_type": "stream",
       "stream": "stdout",
       "text": [
        "I: Retrieving g++-4.9 4.9.2-2\r\n"
       ]
      },
      {
       "output_type": "stream",
       "stream": "stdout",
       "text": [
        "I: Validating g++-4.9 4.9.2-2\r\n"
       ]
      },
      {
       "output_type": "stream",
       "stream": "stdout",
       "text": [
        "I: Retrieving gcc-4.9 4.9.2-2\r\n"
       ]
      },
      {
       "output_type": "stream",
       "stream": "stdout",
       "text": [
        "I: Validating gcc-4.9 4.9.2-2\r\n"
       ]
      },
      {
       "output_type": "stream",
       "stream": "stdout",
       "text": [
        "I: Retrieving gcc-4.9-base 4.9.2-2\r\n"
       ]
      },
      {
       "output_type": "stream",
       "stream": "stdout",
       "text": [
        "I: Validating gcc-4.9-base 4.9.2-2\r\n",
        "I: Retrieving libasan1 4.9.2-2\r\n"
       ]
      },
      {
       "output_type": "stream",
       "stream": "stdout",
       "text": [
        "I: Validating libasan1 4.9.2-2\r\n",
        "I: Retrieving libatomic1 4.9.2-2\r\n",
        "I: Validating libatomic1 4.9.2-2\r\n"
       ]
      },
      {
       "output_type": "stream",
       "stream": "stdout",
       "text": [
        "I: Retrieving libcilkrts5 4.9.2-2\r\n",
        "I: Validating libcilkrts5 4.9.2-2\r\n",
        "I: Retrieving libgcc-4.9-dev 4.9.2-2\r\n"
       ]
      },
      {
       "output_type": "stream",
       "stream": "stdout",
       "text": [
        "I: Validating libgcc-4.9-dev 4.9.2-2\r\n"
       ]
      },
      {
       "output_type": "stream",
       "stream": "stdout",
       "text": [
        "I: Retrieving libgcc1 1:4.9.2-2\r\n",
        "I: Validating libgcc1 1:4.9.2-2\r\n",
        "I: Retrieving libgomp1 4.9.2-2\r\n",
        "I: Validating libgomp1 4.9.2-2\r\n"
       ]
      },
      {
       "output_type": "stream",
       "stream": "stdout",
       "text": [
        "I: Retrieving libitm1 4.9.2-2\r\n",
        "I: Validating libitm1 4.9.2-2\r\n",
        "I: Retrieving liblsan0 4.9.2-2\r\n"
       ]
      },
      {
       "output_type": "stream",
       "stream": "stdout",
       "text": [
        "I: Validating liblsan0 4.9.2-2\r\n",
        "I: Retrieving libquadmath0 4.9.2-2\r\n",
        "I: Validating libquadmath0 4.9.2-2\r\n"
       ]
      },
      {
       "output_type": "stream",
       "stream": "stdout",
       "text": [
        "I: Retrieving libstdc++-4.9-dev 4.9.2-2\r\n"
       ]
      },
      {
       "output_type": "stream",
       "stream": "stdout",
       "text": [
        "I: Validating libstdc++-4.9-dev 4.9.2-2\r\n",
        "I: Retrieving libstdc++6 4.9.2-2\r\n"
       ]
      },
      {
       "output_type": "stream",
       "stream": "stdout",
       "text": [
        "I: Validating libstdc++6 4.9.2-2\r\n",
        "I: Retrieving libtsan0 4.9.2-2\r\n"
       ]
      },
      {
       "output_type": "stream",
       "stream": "stdout",
       "text": [
        "I: Validating libtsan0 4.9.2-2\r\n",
        "I: Retrieving libubsan0 4.9.2-2\r\n",
        "I: Validating libubsan0 4.9.2-2\r\n"
       ]
      },
      {
       "output_type": "stream",
       "stream": "stdout",
       "text": [
        "I: Retrieving cpp 4:4.9.2-1\r\n",
        "I: Validating cpp 4:4.9.2-1\r\n",
        "I: Retrieving g++ 4:4.9.2-1\r\n",
        "I: Validating g++ 4:4.9.2-1\r\n"
       ]
      },
      {
       "output_type": "stream",
       "stream": "stdout",
       "text": [
        "I: Retrieving gcc 4:4.9.2-1\r\n",
        "I: Validating gcc 4:4.9.2-1\r\n",
        "I: Retrieving libgdbm3 1.8.3-13.1\r\n",
        "I: Validating libgdbm3 1.8.3-13.1\r\n"
       ]
      },
      {
       "output_type": "stream",
       "stream": "stdout",
       "text": [
        "I: Retrieving libc-bin 2.19-13\r\n"
       ]
      },
      {
       "output_type": "stream",
       "stream": "stdout",
       "text": [
        "I: Validating libc-bin 2.19-13\r\n",
        "I: Retrieving libc-dev-bin 2.19-13\r\n"
       ]
      },
      {
       "output_type": "stream",
       "stream": "stdout",
       "text": [
        "I: Validating libc-dev-bin 2.19-13\r\n",
        "I: Retrieving libc6 2.19-13\r\n"
       ]
      },
      {
       "output_type": "stream",
       "stream": "stdout",
       "text": [
        "I: Validating libc6 2.19-13\r\n"
       ]
      },
      {
       "output_type": "stream",
       "stream": "stdout",
       "text": [
        "I: Retrieving libc6-dev 2.19-13\r\n"
       ]
      },
      {
       "output_type": "stream",
       "stream": "stdout",
       "text": [
        "I: Validating libc6-dev 2.19-13\r\n"
       ]
      },
      {
       "output_type": "stream",
       "stream": "stdout",
       "text": [
        "I: Retrieving multiarch-support 2.19-13\r\n",
        "I: Validating multiarch-support 2.19-13\r\n"
       ]
      },
      {
       "output_type": "stream",
       "stream": "stdout",
       "text": [
        "I: Retrieving libgmp10 2:6.0.0+dfsg-6\r\n",
        "I: Validating libgmp10 2:6.0.0+dfsg-6\r\n"
       ]
      },
      {
       "output_type": "stream",
       "stream": "stdout",
       "text": [
        "I: Retrieving gnupg 1.4.18-4\r\n"
       ]
      },
      {
       "output_type": "stream",
       "stream": "stdout",
       "text": [
        "I: Validating gnupg 1.4.18-4\r\n",
        "I: Retrieving gpgv 1.4.18-4\r\n"
       ]
      },
      {
       "output_type": "stream",
       "stream": "stdout",
       "text": [
        "I: Validating gpgv 1.4.18-4\r\n",
        "I: Retrieving grep 2.20-4\r\n"
       ]
      },
      {
       "output_type": "stream",
       "stream": "stdout",
       "text": [
        "I: Validating grep 2.20-4\r\n",
        "I: Retrieving gzip 1.6-4\r\n"
       ]
      },
      {
       "output_type": "stream",
       "stream": "stdout",
       "text": [
        "I: Validating gzip 1.6-4\r\n",
        "I: Retrieving hostname 3.15\r\n",
        "I: Validating hostname 3.15\r\n"
       ]
      },
      {
       "output_type": "stream",
       "stream": "stdout",
       "text": [
        "I: Retrieving init 1.22\r\n",
        "I: Validating init 1.22\r\n",
        "I: Retrieving insserv 1.14.0-5\r\n",
        "I: Validating insserv 1.14.0-5\r\n"
       ]
      },
      {
       "output_type": "stream",
       "stream": "stdout",
       "text": [
        "I: Retrieving libisl10 0.12.2-2\r\n"
       ]
      },
      {
       "output_type": "stream",
       "stream": "stdout",
       "text": [
        "I: Validating libisl10 0.12.2-2\r\n",
        "I: Retrieving libkmod2 18-3\r\n",
        "I: Validating libkmod2 18-3\r\n"
       ]
      },
      {
       "output_type": "stream",
       "stream": "stdout",
       "text": [
        "I: Retrieving libcap2 1:2.24-6\r\n",
        "I: Validating libcap2 1:2.24-6\r\n",
        "I: Retrieving libcap2-bin 1:2.24-6\r\n",
        "I: Validating libcap2-bin 1:2.24-6\r\n"
       ]
      },
      {
       "output_type": "stream",
       "stream": "stdout",
       "text": [
        "I: Retrieving libgcrypt20 1.6.2-4\r\n",
        "I: Validating libgcrypt20 1.6.2-4\r\n"
       ]
      },
      {
       "output_type": "stream",
       "stream": "stdout",
       "text": [
        "I: Retrieving libgpg-error0 1.17-2\r\n",
        "I: Validating libgpg-error0 1.17-2\r\n",
        "I: Retrieving liblocale-gettext-perl 1.05-8+b1\r\n"
       ]
      },
      {
       "output_type": "stream",
       "stream": "stdout",
       "text": [
        "I: Validating liblocale-gettext-perl 1.05-8+b1\r\n",
        "I: Retrieving libselinux1 2.3-2\r\n",
        "I: Validating libselinux1 2.3-2\r\n"
       ]
      },
      {
       "output_type": "stream",
       "stream": "stdout",
       "text": [
        "I: Retrieving libsemanage-common 2.3-1\r\n",
        "I: Validating libsemanage-common 2.3-1\r\n",
        "I: Retrieving libsemanage1 2.3-1\r\n",
        "I: Validating libsemanage1 2.3-1\r\n"
       ]
      },
      {
       "output_type": "stream",
       "stream": "stdout",
       "text": [
        "I: Retrieving libsepol1 2.3-2\r\n",
        "I: Validating libsepol1 2.3-2\r\n",
        "I: Retrieving libtext-charwidth-perl 0.04-7+b3\r\n"
       ]
      },
      {
       "output_type": "stream",
       "stream": "stdout",
       "text": [
        "I: Validating libtext-charwidth-perl 0.04-7+b3\r\n",
        "I: Retrieving libtext-iconv-perl 1.7-5+b2\r\n",
        "I: Validating libtext-iconv-perl 1.7-5+b2\r\n",
        "I: Retrieving libtext-wrapi18n-perl 0.06-7\r\n"
       ]
      },
      {
       "output_type": "stream",
       "stream": "stdout",
       "text": [
        "I: Validating libtext-wrapi18n-perl 0.06-7\r\n",
        "I: Retrieving libtimedate-perl 2.3000-2\r\n",
        "I: Validating libtimedate-perl 2.3000-2\r\n",
        "I: Retrieving libusb-0.1-4 2:0.1.12-25\r\n"
       ]
      },
      {
       "output_type": "stream",
       "stream": "stdout",
       "text": [
        "I: Validating libusb-0.1-4 2:0.1.12-25\r\n",
        "I: Retrieving linux-libc-dev 3.16.7-2\r\n"
       ]
      },
      {
       "output_type": "stream",
       "stream": "stdout",
       "text": [
        "I: Validating linux-libc-dev 3.16.7-2\r\n",
        "I: Retrieving lsb-base 4.1+Debian13+nmu1\r\n"
       ]
      },
      {
       "output_type": "stream",
       "stream": "stdout",
       "text": [
        "I: Validating lsb-base 4.1+Debian13+nmu1\r\n",
        "I: Retrieving dmsetup 2:1.02.90-2\r\n",
        "I: Validating dmsetup 2:1.02.90-2\r\n",
        "I: Retrieving libdevmapper1.02.1 2:1.02.90-2\r\n"
       ]
      },
      {
       "output_type": "stream",
       "stream": "stdout",
       "text": [
        "I: Validating libdevmapper1.02.1 2:1.02.90-2\r\n",
        "I: Retrieving make 4.0-8\r\n"
       ]
      },
      {
       "output_type": "stream",
       "stream": "stdout",
       "text": [
        "I: Validating make 4.0-8\r\n",
        "I: Retrieving mawk 1.3.3-17\r\n"
       ]
      },
      {
       "output_type": "stream",
       "stream": "stdout",
       "text": [
        "I: Validating mawk 1.3.3-17\r\n",
        "I: Retrieving libmpc3 1.0.2-1\r\n",
        "I: Validating libmpc3 1.0.2-1\r\n"
       ]
      },
      {
       "output_type": "stream",
       "stream": "stdout",
       "text": [
        "I: Retrieving libmpfr4 3.1.2-1\r\n"
       ]
      },
      {
       "output_type": "stream",
       "stream": "stdout",
       "text": [
        "I: Validating libmpfr4 3.1.2-1\r\n",
        "I: Retrieving libncurses5 5.9+20140913-1\r\n",
        "I: Validating libncurses5 5.9+20140913-1\r\n"
       ]
      },
      {
       "output_type": "stream",
       "stream": "stdout",
       "text": [
        "I: Retrieving libncursesw5 5.9+20140913-1\r\n",
        "I: Validating libncursesw5 5.9+20140913-1\r\n",
        "I: Retrieving libtinfo5 5.9+20140913-1\r\n"
       ]
      },
      {
       "output_type": "stream",
       "stream": "stdout",
       "text": [
        "I: Validating libtinfo5 5.9+20140913-1\r\n",
        "I: Retrieving ncurses-base 5.9+20140913-1\r\n"
       ]
      },
      {
       "output_type": "stream",
       "stream": "stdout",
       "text": [
        "I: Validating ncurses-base 5.9+20140913-1\r\n",
        "I: Retrieving ncurses-bin 5.9+20140913-1\r\n"
       ]
      },
      {
       "output_type": "stream",
       "stream": "stdout",
       "text": [
        "I: Validating ncurses-bin 5.9+20140913-1\r\n",
        "I: Retrieving libpam-modules 1.1.8-3.1\r\n"
       ]
      },
      {
       "output_type": "stream",
       "stream": "stdout",
       "text": [
        "I: Validating libpam-modules 1.1.8-3.1\r\n",
        "I: Retrieving libpam-modules-bin 1.1.8-3.1\r\n"
       ]
      },
      {
       "output_type": "stream",
       "stream": "stdout",
       "text": [
        "I: Validating libpam-modules-bin 1.1.8-3.1\r\n",
        "I: Retrieving libpam-runtime 1.1.8-3.1\r\n"
       ]
      },
      {
       "output_type": "stream",
       "stream": "stdout",
       "text": [
        "I: Validating libpam-runtime 1.1.8-3.1\r\n",
        "I: Retrieving libpam0g 1.1.8-3.1\r\n",
        "I: Validating libpam0g 1.1.8-3.1\r\n"
       ]
      },
      {
       "output_type": "stream",
       "stream": "stdout",
       "text": [
        "I: Retrieving patch 2.7.1-6\r\n",
        "I: Validating patch 2.7.1-6\r\n",
        "I: Retrieving libpcre3 1:8.35-3.2\r\n"
       ]
      },
      {
       "output_type": "stream",
       "stream": "stdout",
       "text": [
        "I: Validating libpcre3 1:8.35-3.2\r\n",
        "I: Retrieving perl 5.20.1-3\r\n"
       ]
      },
      {
       "output_type": "stream",
       "stream": "stdout",
       "text": [
        "I: Validating perl 5.20.1-3\r\n"
       ]
      },
      {
       "output_type": "stream",
       "stream": "stdout",
       "text": [
        "I: Retrieving perl-base 5.20.1-3\r\n"
       ]
      },
      {
       "output_type": "stream",
       "stream": "stdout",
       "text": [
        "I: Validating perl-base 5.20.1-3\r\n"
       ]
      },
      {
       "output_type": "stream",
       "stream": "stdout",
       "text": [
        "I: Retrieving perl-modules 5.20.1-3\r\n"
       ]
      },
      {
       "output_type": "stream",
       "stream": "stdout",
       "text": [
        "I: Validating perl-modules 5.20.1-3\r\n"
       ]
      },
      {
       "output_type": "stream",
       "stream": "stdout",
       "text": [
        "I: Retrieving libprocps3 2:3.3.9-8\r\n",
        "I: Validating libprocps3 2:3.3.9-8\r\n",
        "I: Retrieving procps 2:3.3.9-8\r\n"
       ]
      },
      {
       "output_type": "stream",
       "stream": "stdout",
       "text": [
        "I: Validating procps 2:3.3.9-8\r\n",
        "I: Retrieving libreadline6 6.3-8+b1\r\n"
       ]
      },
      {
       "output_type": "stream",
       "stream": "stdout",
       "text": [
        "I: Validating libreadline6 6.3-8+b1\r\n",
        "I: Retrieving readline-common 6.3-8\r\n",
        "I: Validating readline-common 6.3-8\r\n"
       ]
      },
      {
       "output_type": "stream",
       "stream": "stdout",
       "text": [
        "I: Retrieving sed 4.2.2-4+b1\r\n",
        "I: Validating sed 4.2.2-4+b1\r\n",
        "I: Retrieving sensible-utils 0.0.9\r\n"
       ]
      },
      {
       "output_type": "stream",
       "stream": "stdout",
       "text": [
        "I: Validating sensible-utils 0.0.9\r\n",
        "I: Retrieving login 1:4.2-2+b2\r\n"
       ]
      },
      {
       "output_type": "stream",
       "stream": "stdout",
       "text": [
        "I: Validating login 1:4.2-2+b2\r\n"
       ]
      },
      {
       "output_type": "stream",
       "stream": "stdout",
       "text": [
        "I: Retrieving passwd 1:4.2-2+b2\r\n"
       ]
      },
      {
       "output_type": "stream",
       "stream": "stdout",
       "text": [
        "I: Validating passwd 1:4.2-2+b2\r\n",
        "I: Retrieving libslang2 2.3.0-2\r\n"
       ]
      },
      {
       "output_type": "stream",
       "stream": "stdout",
       "text": [
        "I: Validating libslang2 2.3.0-2\r\n"
       ]
      },
      {
       "output_type": "stream",
       "stream": "stdout",
       "text": [
        "I: Retrieving startpar 0.59-3\r\n",
        "I: Validating startpar 0.59-3\r\n",
        "I: Retrieving libsystemd0 215-6\r\n"
       ]
      },
      {
       "output_type": "stream",
       "stream": "stdout",
       "text": [
        "I: Validating libsystemd0 215-6\r\n",
        "I: Retrieving libudev1 215-6\r\n",
        "I: Validating libudev1 215-6\r\n",
        "I: Retrieving systemd 215-6\r\n"
       ]
      },
      {
       "output_type": "stream",
       "stream": "stdout",
       "text": [
        "I: Validating systemd 215-6\r\n"
       ]
      },
      {
       "output_type": "stream",
       "stream": "stdout",
       "text": [
        "I: Retrieving systemd-sysv 215-6\r\n",
        "I: Validating systemd-sysv 215-6\r\n",
        "I: Retrieving udev 215-6\r\n"
       ]
      },
      {
       "output_type": "stream",
       "stream": "stdout",
       "text": [
        "I: Validating udev 215-6\r\n",
        "I: Retrieving initscripts 2.88dsf-58\r\n"
       ]
      },
      {
       "output_type": "stream",
       "stream": "stdout",
       "text": [
        "I: Validating initscripts 2.88dsf-58\r\n",
        "I: Retrieving sysv-rc 2.88dsf-58\r\n",
        "I: Validating sysv-rc 2.88dsf-58\r\n",
        "I: Retrieving sysvinit-utils 2.88dsf-58\r\n"
       ]
      },
      {
       "output_type": "stream",
       "stream": "stdout",
       "text": [
        "I: Validating sysvinit-utils 2.88dsf-58\r\n",
        "I: Retrieving tar 1.27.1-2+b1\r\n"
       ]
      },
      {
       "output_type": "stream",
       "stream": "stdout",
       "text": [
        "I: Validating tar 1.27.1-2+b1\r\n"
       ]
      },
      {
       "output_type": "stream",
       "stream": "stdout",
       "text": [
        "I: Retrieving tzdata 2014j-1\r\n",
        "I: Validating tzdata 2014j-1\r\n"
       ]
      },
      {
       "output_type": "stream",
       "stream": "stdout",
       "text": [
        "I: Retrieving libustr-1.0-1 1.0.4-3\r\n",
        "I: Validating libustr-1.0-1 1.0.4-3\r\n",
        "I: Retrieving bsdutils 1:2.25.2-3\r\n"
       ]
      },
      {
       "output_type": "stream",
       "stream": "stdout",
       "text": [
        "I: Validating bsdutils 1:2.25.2-3\r\n",
        "I: Retrieving libblkid1 2.25.2-3\r\n",
        "I: Validating libblkid1 2.25.2-3\r\n",
        "I: Retrieving libmount1 2.25.2-3\r\n"
       ]
      },
      {
       "output_type": "stream",
       "stream": "stdout",
       "text": [
        "I: Validating libmount1 2.25.2-3\r\n",
        "I: Retrieving libsmartcols1 2.25.2-3\r\n"
       ]
      },
      {
       "output_type": "stream",
       "stream": "stdout",
       "text": [
        "I: Validating libsmartcols1 2.25.2-3\r\n",
        "I: Retrieving libuuid1 2.25.2-3\r\n",
        "I: Validating libuuid1 2.25.2-3\r\n",
        "I: Retrieving mount 2.25.2-3\r\n"
       ]
      },
      {
       "output_type": "stream",
       "stream": "stdout",
       "text": [
        "I: Validating mount 2.25.2-3\r\n",
        "I: Retrieving util-linux 2.25.2-3\r\n"
       ]
      },
      {
       "output_type": "stream",
       "stream": "stdout",
       "text": [
        "I: Validating util-linux 2.25.2-3\r\n",
        "I: Retrieving liblzma5 5.1.1alpha+20120614-2+b1\r\n"
       ]
      },
      {
       "output_type": "stream",
       "stream": "stdout",
       "text": [
        "I: Validating liblzma5 5.1.1alpha+20120614-2+b1\r\n",
        "I: Retrieving xz-utils 5.1.1alpha+20120614-2+b1\r\n"
       ]
      },
      {
       "output_type": "stream",
       "stream": "stdout",
       "text": [
        "I: Validating xz-utils 5.1.1alpha+20120614-2+b1\r\n",
        "I: Retrieving zlib1g 1:1.2.8.dfsg-2\r\n",
        "I: Validating zlib1g 1:1.2.8.dfsg-2\r\n"
       ]
      },
      {
       "output_type": "stream",
       "stream": "stdout",
       "text": [
        "I: Chosen extractor for .deb packages: dpkg-deb\r\n",
        "I: Extracting acl...\r\n"
       ]
      },
      {
       "output_type": "stream",
       "stream": "stdout",
       "text": [
        "I: Extracting libacl1...\r\n",
        "I: Extracting adduser...\r\n",
        "I: Extracting libattr1...\r\n",
        "I: Extracting libaudit-common...\r\n",
        "I: Extracting libaudit1...\r\n"
       ]
      },
      {
       "output_type": "stream",
       "stream": "stdout",
       "text": [
        "I: Extracting base-files...\r\n",
        "I: Extracting base-passwd...\r\n",
        "I: Extracting bash...\r\n"
       ]
      },
      {
       "output_type": "stream",
       "stream": "stdout",
       "text": [
        "I: Extracting libbz2-1.0...\r\n",
        "I: Extracting libdebconfclient0...\r\n",
        "I: Extracting coreutils...\r\n"
       ]
      },
      {
       "output_type": "stream",
       "stream": "stdout",
       "text": [
        "I: Extracting libcryptsetup4...\r\n",
        "I: Extracting dash...\r\n"
       ]
      },
      {
       "output_type": "stream",
       "stream": "stdout",
       "text": [
        "I: Extracting libdb5.3...\r\n"
       ]
      },
      {
       "output_type": "stream",
       "stream": "stdout",
       "text": [
        "I: Extracting debconf...\r\n",
        "I: Extracting debconf-i18n...\r\n",
        "I: Extracting debianutils...\r\n"
       ]
      },
      {
       "output_type": "stream",
       "stream": "stdout",
       "text": [
        "I: Extracting diffutils...\r\n"
       ]
      },
      {
       "output_type": "stream",
       "stream": "stdout",
       "text": [
        "I: Extracting dpkg...\r\n"
       ]
      },
      {
       "output_type": "stream",
       "stream": "stdout",
       "text": [
        "I: Extracting e2fslibs...\r\n",
        "I: Extracting e2fsprogs...\r\n"
       ]
      },
      {
       "output_type": "stream",
       "stream": "stdout",
       "text": [
        "I: Extracting libcomerr2...\r\n",
        "I: Extracting libss2...\r\n",
        "I: Extracting findutils...\r\n"
       ]
      },
      {
       "output_type": "stream",
       "stream": "stdout",
       "text": [
        "I: Extracting gcc-4.7-base...\r\n"
       ]
      },
      {
       "output_type": "stream",
       "stream": "stdout",
       "text": [
        "I: Extracting gcc-4.8-base...\r\n",
        "I: Extracting gcc-4.9-base...\r\n",
        "I: Extracting libgcc1...\r\n",
        "I: Extracting libc-bin...\r\n"
       ]
      },
      {
       "output_type": "stream",
       "stream": "stdout",
       "text": [
        "I: Extracting libc6...\r\n"
       ]
      },
      {
       "output_type": "stream",
       "stream": "stdout",
       "text": [
        "I: Extracting multiarch-support...\r\n",
        "I: Extracting grep...\r\n"
       ]
      },
      {
       "output_type": "stream",
       "stream": "stdout",
       "text": [
        "I: Extracting gzip...\r\n",
        "I: Extracting hostname...\r\n",
        "I: Extracting init...\r\n"
       ]
      },
      {
       "output_type": "stream",
       "stream": "stdout",
       "text": [
        "I: Extracting insserv...\r\n",
        "I: Extracting libkmod2...\r\n",
        "I: Extracting libcap2...\r\n",
        "I: Extracting libcap2-bin...\r\n",
        "I: Extracting libgcrypt20...\r\n"
       ]
      },
      {
       "output_type": "stream",
       "stream": "stdout",
       "text": [
        "I: Extracting libgpg-error0...\r\n"
       ]
      },
      {
       "output_type": "stream",
       "stream": "stdout",
       "text": [
        "I: Extracting liblocale-gettext-perl...\r\n",
        "I: Extracting libselinux1...\r\n",
        "I: Extracting libsemanage-common...\r\n",
        "I: Extracting libsemanage1...\r\n"
       ]
      },
      {
       "output_type": "stream",
       "stream": "stdout",
       "text": [
        "I: Extracting libsepol1...\r\n",
        "I: Extracting libtext-charwidth-perl...\r\n",
        "I: Extracting libtext-iconv-perl...\r\n",
        "I: Extracting libtext-wrapi18n-perl...\r\n",
        "I: Extracting lsb-base...\r\n",
        "I: Extracting dmsetup...\r\n"
       ]
      },
      {
       "output_type": "stream",
       "stream": "stdout",
       "text": [
        "I: Extracting libdevmapper1.02.1...\r\n",
        "I: Extracting mawk...\r\n",
        "I: Extracting libncurses5...\r\n"
       ]
      },
      {
       "output_type": "stream",
       "stream": "stdout",
       "text": [
        "I: Extracting libncursesw5...\r\n",
        "I: Extracting libtinfo5...\r\n"
       ]
      },
      {
       "output_type": "stream",
       "stream": "stdout",
       "text": [
        "I: Extracting ncurses-base...\r\n",
        "I: Extracting ncurses-bin...\r\n"
       ]
      },
      {
       "output_type": "stream",
       "stream": "stdout",
       "text": [
        "I: Extracting libpam-modules...\r\n"
       ]
      },
      {
       "output_type": "stream",
       "stream": "stdout",
       "text": [
        "I: Extracting libpam-modules-bin...\r\n",
        "I: Extracting libpam-runtime...\r\n"
       ]
      },
      {
       "output_type": "stream",
       "stream": "stdout",
       "text": [
        "I: Extracting libpam0g...\r\n",
        "I: Extracting libpcre3...\r\n"
       ]
      },
      {
       "output_type": "stream",
       "stream": "stdout",
       "text": [
        "I: Extracting perl-base...\r\n"
       ]
      },
      {
       "output_type": "stream",
       "stream": "stdout",
       "text": [
        "I: Extracting libprocps3...\r\n",
        "I: Extracting procps...\r\n"
       ]
      },
      {
       "output_type": "stream",
       "stream": "stdout",
       "text": [
        "I: Extracting sed...\r\n"
       ]
      },
      {
       "output_type": "stream",
       "stream": "stdout",
       "text": [
        "I: Extracting sensible-utils...\r\n",
        "I: Extracting login...\r\n"
       ]
      },
      {
       "output_type": "stream",
       "stream": "stdout",
       "text": [
        "I: Extracting passwd...\r\n"
       ]
      },
      {
       "output_type": "stream",
       "stream": "stdout",
       "text": [
        "I: Extracting libslang2...\r\n"
       ]
      },
      {
       "output_type": "stream",
       "stream": "stdout",
       "text": [
        "I: Extracting startpar...\r\n",
        "I: Extracting libsystemd0...\r\n"
       ]
      },
      {
       "output_type": "stream",
       "stream": "stdout",
       "text": [
        "I: Extracting libudev1...\r\n",
        "I: Extracting systemd...\r\n"
       ]
      },
      {
       "output_type": "stream",
       "stream": "stdout",
       "text": [
        "I: Extracting systemd-sysv...\r\n",
        "I: Extracting udev...\r\n"
       ]
      },
      {
       "output_type": "stream",
       "stream": "stdout",
       "text": [
        "I: Extracting initscripts...\r\n",
        "I: Extracting sysv-rc...\r\n",
        "I: Extracting sysvinit-utils...\r\n"
       ]
      },
      {
       "output_type": "stream",
       "stream": "stdout",
       "text": [
        "I: Extracting tar...\r\n"
       ]
      },
      {
       "output_type": "stream",
       "stream": "stdout",
       "text": [
        "I: Extracting tzdata...\r\n"
       ]
      },
      {
       "output_type": "stream",
       "stream": "stdout",
       "text": [
        "I: Extracting libustr-1.0-1...\r\n",
        "I: Extracting bsdutils...\r\n",
        "I: Extracting libblkid1...\r\n"
       ]
      },
      {
       "output_type": "stream",
       "stream": "stdout",
       "text": [
        "I: Extracting libmount1...\r\n",
        "I: Extracting libsmartcols1...\r\n"
       ]
      },
      {
       "output_type": "stream",
       "stream": "stdout",
       "text": [
        "I: Extracting libuuid1...\r\n",
        "I: Extracting mount...\r\n",
        "I: Extracting util-linux...\r\n"
       ]
      },
      {
       "output_type": "stream",
       "stream": "stdout",
       "text": [
        "I: Extracting liblzma5...\r\n",
        "I: Extracting zlib1g...\r\n"
       ]
      },
      {
       "output_type": "stream",
       "stream": "stdout",
       "text": [
        "I: Installing core packages...\r\n"
       ]
      },
      {
       "output_type": "stream",
       "stream": "stdout",
       "text": [
        "I: Unpacking required packages...\r\n"
       ]
      },
      {
       "output_type": "stream",
       "stream": "stdout",
       "text": [
        "I: Unpacking acl...\r\n"
       ]
      },
      {
       "output_type": "stream",
       "stream": "stdout",
       "text": [
        "I: Unpacking libacl1:amd64...\r\n"
       ]
      },
      {
       "output_type": "stream",
       "stream": "stdout",
       "text": [
        "I: Unpacking adduser...\r\n"
       ]
      },
      {
       "output_type": "stream",
       "stream": "stdout",
       "text": [
        "I: Unpacking libattr1:amd64...\r\n"
       ]
      },
      {
       "output_type": "stream",
       "stream": "stdout",
       "text": [
        "I: Unpacking libaudit-common...\r\n"
       ]
      },
      {
       "output_type": "stream",
       "stream": "stdout",
       "text": [
        "I: Unpacking libaudit1:amd64...\r\n"
       ]
      },
      {
       "output_type": "stream",
       "stream": "stdout",
       "text": [
        "I: Unpacking base-files...\r\n"
       ]
      },
      {
       "output_type": "stream",
       "stream": "stdout",
       "text": [
        "I: Unpacking base-passwd...\r\n"
       ]
      },
      {
       "output_type": "stream",
       "stream": "stdout",
       "text": [
        "I: Unpacking bash...\r\n"
       ]
      },
      {
       "output_type": "stream",
       "stream": "stdout",
       "text": [
        "I: Unpacking libbz2-1.0:amd64...\r\n"
       ]
      },
      {
       "output_type": "stream",
       "stream": "stdout",
       "text": [
        "I: Unpacking libdebconfclient0:amd64...\r\n"
       ]
      },
      {
       "output_type": "stream",
       "stream": "stdout",
       "text": [
        "I: Unpacking coreutils...\r\n"
       ]
      },
      {
       "output_type": "stream",
       "stream": "stdout",
       "text": [
        "I: Unpacking libcryptsetup4:amd64...\r\n"
       ]
      },
      {
       "output_type": "stream",
       "stream": "stdout",
       "text": [
        "I: Unpacking dash...\r\n"
       ]
      },
      {
       "output_type": "stream",
       "stream": "stdout",
       "text": [
        "I: Unpacking libdb5.3:amd64...\r\n"
       ]
      },
      {
       "output_type": "stream",
       "stream": "stdout",
       "text": [
        "I: Unpacking debconf...\r\n"
       ]
      },
      {
       "output_type": "stream",
       "stream": "stdout",
       "text": [
        "I: Unpacking debconf-i18n...\r\n"
       ]
      },
      {
       "output_type": "stream",
       "stream": "stdout",
       "text": [
        "I: Unpacking debianutils...\r\n"
       ]
      },
      {
       "output_type": "stream",
       "stream": "stdout",
       "text": [
        "I: Unpacking diffutils...\r\n"
       ]
      },
      {
       "output_type": "stream",
       "stream": "stdout",
       "text": [
        "I: Unpacking dpkg...\r\n"
       ]
      },
      {
       "output_type": "stream",
       "stream": "stdout",
       "text": [
        "I: Unpacking e2fslibs:amd64...\r\n"
       ]
      },
      {
       "output_type": "stream",
       "stream": "stdout",
       "text": [
        "I: Unpacking e2fsprogs...\r\n"
       ]
      },
      {
       "output_type": "stream",
       "stream": "stdout",
       "text": [
        "I: Unpacking libcomerr2:amd64...\r\n"
       ]
      },
      {
       "output_type": "stream",
       "stream": "stdout",
       "text": [
        "I: Unpacking libss2:amd64...\r\n"
       ]
      },
      {
       "output_type": "stream",
       "stream": "stdout",
       "text": [
        "I: Unpacking findutils...\r\n"
       ]
      },
      {
       "output_type": "stream",
       "stream": "stdout",
       "text": [
        "I: Unpacking gcc-4.7-base:amd64...\r\n"
       ]
      },
      {
       "output_type": "stream",
       "stream": "stdout",
       "text": [
        "I: Unpacking gcc-4.8-base:amd64...\r\n"
       ]
      },
      {
       "output_type": "stream",
       "stream": "stdout",
       "text": [
        "I: Unpacking gcc-4.9-base:amd64...\r\n"
       ]
      },
      {
       "output_type": "stream",
       "stream": "stdout",
       "text": [
        "I: Unpacking libgcc1:amd64...\r\n"
       ]
      },
      {
       "output_type": "stream",
       "stream": "stdout",
       "text": [
        "I: Unpacking libc-bin...\r\n"
       ]
      },
      {
       "output_type": "stream",
       "stream": "stdout",
       "text": [
        "I: Unpacking libc6:amd64...\r\n"
       ]
      },
      {
       "output_type": "stream",
       "stream": "stdout",
       "text": [
        "I: Unpacking multiarch-support...\r\n"
       ]
      },
      {
       "output_type": "stream",
       "stream": "stdout",
       "text": [
        "I: Unpacking grep...\r\n"
       ]
      },
      {
       "output_type": "stream",
       "stream": "stdout",
       "text": [
        "I: Unpacking gzip...\r\n"
       ]
      },
      {
       "output_type": "stream",
       "stream": "stdout",
       "text": [
        "I: Unpacking hostname...\r\n"
       ]
      },
      {
       "output_type": "stream",
       "stream": "stdout",
       "text": [
        "I: Unpacking init...\r\n"
       ]
      },
      {
       "output_type": "stream",
       "stream": "stdout",
       "text": [
        "I: Unpacking insserv...\r\n"
       ]
      },
      {
       "output_type": "stream",
       "stream": "stdout",
       "text": [
        "I: Unpacking libkmod2:amd64...\r\n"
       ]
      },
      {
       "output_type": "stream",
       "stream": "stdout",
       "text": [
        "I: Unpacking libcap2:amd64...\r\n"
       ]
      },
      {
       "output_type": "stream",
       "stream": "stdout",
       "text": [
        "I: Unpacking libcap2-bin...\r\n"
       ]
      },
      {
       "output_type": "stream",
       "stream": "stdout",
       "text": [
        "I: Unpacking libgcrypt20:amd64...\r\n"
       ]
      },
      {
       "output_type": "stream",
       "stream": "stdout",
       "text": [
        "I: Unpacking libgpg-error0:amd64...\r\n"
       ]
      },
      {
       "output_type": "stream",
       "stream": "stdout",
       "text": [
        "I: Unpacking liblocale-gettext-perl...\r\n"
       ]
      },
      {
       "output_type": "stream",
       "stream": "stdout",
       "text": [
        "I: Unpacking libselinux1:amd64...\r\n"
       ]
      },
      {
       "output_type": "stream",
       "stream": "stdout",
       "text": [
        "I: Unpacking libsemanage-common...\r\n"
       ]
      },
      {
       "output_type": "stream",
       "stream": "stdout",
       "text": [
        "I: Unpacking libsemanage1:amd64...\r\n"
       ]
      },
      {
       "output_type": "stream",
       "stream": "stdout",
       "text": [
        "I: Unpacking libsepol1:amd64...\r\n"
       ]
      },
      {
       "output_type": "stream",
       "stream": "stdout",
       "text": [
        "I: Unpacking libtext-charwidth-perl...\r\n"
       ]
      },
      {
       "output_type": "stream",
       "stream": "stdout",
       "text": [
        "I: Unpacking libtext-iconv-perl...\r\n"
       ]
      },
      {
       "output_type": "stream",
       "stream": "stdout",
       "text": [
        "I: Unpacking libtext-wrapi18n-perl...\r\n"
       ]
      },
      {
       "output_type": "stream",
       "stream": "stdout",
       "text": [
        "I: Unpacking lsb-base...\r\n"
       ]
      },
      {
       "output_type": "stream",
       "stream": "stdout",
       "text": [
        "I: Unpacking dmsetup...\r\n"
       ]
      },
      {
       "output_type": "stream",
       "stream": "stdout",
       "text": [
        "I: Unpacking libdevmapper1.02.1:amd64...\r\n"
       ]
      },
      {
       "output_type": "stream",
       "stream": "stdout",
       "text": [
        "I: Unpacking mawk...\r\n"
       ]
      },
      {
       "output_type": "stream",
       "stream": "stdout",
       "text": [
        "I: Unpacking libncurses5:amd64...\r\n"
       ]
      },
      {
       "output_type": "stream",
       "stream": "stdout",
       "text": [
        "I: Unpacking libncursesw5:amd64...\r\n"
       ]
      },
      {
       "output_type": "stream",
       "stream": "stdout",
       "text": [
        "I: Unpacking libtinfo5:amd64...\r\n"
       ]
      },
      {
       "output_type": "stream",
       "stream": "stdout",
       "text": [
        "I: Unpacking ncurses-base...\r\n"
       ]
      },
      {
       "output_type": "stream",
       "stream": "stdout",
       "text": [
        "I: Unpacking ncurses-bin...\r\n"
       ]
      },
      {
       "output_type": "stream",
       "stream": "stdout",
       "text": [
        "I: Unpacking libpam-modules:amd64...\r\n"
       ]
      },
      {
       "output_type": "stream",
       "stream": "stdout",
       "text": [
        "I: Unpacking libpam-modules-bin...\r\n"
       ]
      },
      {
       "output_type": "stream",
       "stream": "stdout",
       "text": [
        "I: Unpacking libpam-runtime...\r\n"
       ]
      },
      {
       "output_type": "stream",
       "stream": "stdout",
       "text": [
        "I: Unpacking libpam0g:amd64...\r\n"
       ]
      },
      {
       "output_type": "stream",
       "stream": "stdout",
       "text": [
        "I: Unpacking libpcre3:amd64...\r\n"
       ]
      },
      {
       "output_type": "stream",
       "stream": "stdout",
       "text": [
        "I: Unpacking perl-base...\r\n"
       ]
      },
      {
       "output_type": "stream",
       "stream": "stdout",
       "text": [
        "I: Unpacking libprocps3:amd64...\r\n"
       ]
      },
      {
       "output_type": "stream",
       "stream": "stdout",
       "text": [
        "I: Unpacking procps...\r\n"
       ]
      },
      {
       "output_type": "stream",
       "stream": "stdout",
       "text": [
        "I: Unpacking sed...\r\n"
       ]
      },
      {
       "output_type": "stream",
       "stream": "stdout",
       "text": [
        "I: Unpacking sensible-utils...\r\n"
       ]
      },
      {
       "output_type": "stream",
       "stream": "stdout",
       "text": [
        "I: Unpacking login...\r\n"
       ]
      },
      {
       "output_type": "stream",
       "stream": "stdout",
       "text": [
        "I: Unpacking passwd...\r\n"
       ]
      },
      {
       "output_type": "stream",
       "stream": "stdout",
       "text": [
        "I: Unpacking libslang2:amd64...\r\n"
       ]
      },
      {
       "output_type": "stream",
       "stream": "stdout",
       "text": [
        "I: Unpacking startpar...\r\n"
       ]
      },
      {
       "output_type": "stream",
       "stream": "stdout",
       "text": [
        "I: Unpacking libsystemd0:amd64...\r\n"
       ]
      },
      {
       "output_type": "stream",
       "stream": "stdout",
       "text": [
        "I: Unpacking libudev1:amd64...\r\n"
       ]
      },
      {
       "output_type": "stream",
       "stream": "stdout",
       "text": [
        "I: Unpacking systemd...\r\n"
       ]
      },
      {
       "output_type": "stream",
       "stream": "stdout",
       "text": [
        "I: Unpacking systemd-sysv...\r\n"
       ]
      },
      {
       "output_type": "stream",
       "stream": "stdout",
       "text": [
        "I: Unpacking udev...\r\n"
       ]
      },
      {
       "output_type": "stream",
       "stream": "stdout",
       "text": [
        "I: Unpacking initscripts...\r\n"
       ]
      },
      {
       "output_type": "stream",
       "stream": "stdout",
       "text": [
        "I: Unpacking sysv-rc...\r\n"
       ]
      },
      {
       "output_type": "stream",
       "stream": "stdout",
       "text": [
        "I: Unpacking sysvinit-utils...\r\n"
       ]
      },
      {
       "output_type": "stream",
       "stream": "stdout",
       "text": [
        "I: Unpacking tar...\r\n"
       ]
      },
      {
       "output_type": "stream",
       "stream": "stdout",
       "text": [
        "I: Unpacking tzdata...\r\n"
       ]
      },
      {
       "output_type": "stream",
       "stream": "stdout",
       "text": [
        "I: Unpacking libustr-1.0-1:amd64...\r\n"
       ]
      },
      {
       "output_type": "stream",
       "stream": "stdout",
       "text": [
        "I: Unpacking bsdutils...\r\n"
       ]
      },
      {
       "output_type": "stream",
       "stream": "stdout",
       "text": [
        "I: Unpacking libblkid1:amd64...\r\n"
       ]
      },
      {
       "output_type": "stream",
       "stream": "stdout",
       "text": [
        "I: Unpacking libmount1:amd64...\r\n"
       ]
      },
      {
       "output_type": "stream",
       "stream": "stdout",
       "text": [
        "I: Unpacking libsmartcols1:amd64...\r\n"
       ]
      },
      {
       "output_type": "stream",
       "stream": "stdout",
       "text": [
        "I: Unpacking libuuid1:amd64...\r\n"
       ]
      },
      {
       "output_type": "stream",
       "stream": "stdout",
       "text": [
        "I: Unpacking mount...\r\n"
       ]
      },
      {
       "output_type": "stream",
       "stream": "stdout",
       "text": [
        "I: Unpacking util-linux...\r\n"
       ]
      },
      {
       "output_type": "stream",
       "stream": "stdout",
       "text": [
        "I: Unpacking liblzma5:amd64...\r\n"
       ]
      },
      {
       "output_type": "stream",
       "stream": "stdout",
       "text": [
        "I: Unpacking zlib1g:amd64...\r\n"
       ]
      },
      {
       "output_type": "stream",
       "stream": "stdout",
       "text": [
        "I: Configuring required packages...\r\n"
       ]
      },
      {
       "output_type": "stream",
       "stream": "stdout",
       "text": [
        "I: Configuring gcc-4.8-base:amd64...\r\n"
       ]
      },
      {
       "output_type": "stream",
       "stream": "stdout",
       "text": [
        "I: Configuring lsb-base...\r\n"
       ]
      },
      {
       "output_type": "stream",
       "stream": "stdout",
       "text": [
        "I: Configuring sensible-utils...\r\n"
       ]
      },
      {
       "output_type": "stream",
       "stream": "stdout",
       "text": [
        "I: Configuring ncurses-base...\r\n"
       ]
      },
      {
       "output_type": "stream",
       "stream": "stdout",
       "text": [
        "I: Configuring libsemanage-common...\r\n"
       ]
      },
      {
       "output_type": "stream",
       "stream": "stdout",
       "text": [
        "I: Configuring gcc-4.9-base:amd64...\r\n"
       ]
      },
      {
       "output_type": "stream",
       "stream": "stdout",
       "text": [
        "I: Configuring libaudit-common...\r\n"
       ]
      },
      {
       "output_type": "stream",
       "stream": "stdout",
       "text": [
        "I: Configuring gcc-4.7-base:amd64...\r\n"
       ]
      },
      {
       "output_type": "stream",
       "stream": "stdout",
       "text": [
        "I: Configuring libc6:amd64...\r\n"
       ]
      },
      {
       "output_type": "stream",
       "stream": "stdout",
       "text": [
        "I: Configuring startpar...\r\n"
       ]
      },
      {
       "output_type": "stream",
       "stream": "stdout",
       "text": [
        "I: Configuring diffutils...\r\n"
       ]
      },
      {
       "output_type": "stream",
       "stream": "stdout",
       "text": [
        "I: Configuring insserv...\r\n"
       ]
      },
      {
       "output_type": "stream",
       "stream": "stdout",
       "text": [
        "I: Configuring findutils...\r\n"
       ]
      },
      {
       "output_type": "stream",
       "stream": "stdout",
       "text": [
        "I: Configuring debianutils...\r\n"
       ]
      },
      {
       "output_type": "stream",
       "stream": "stdout",
       "text": [
        "I: Configuring hostname...\r\n"
       ]
      },
      {
       "output_type": "stream",
       "stream": "stdout",
       "text": [
        "I: Configuring multiarch-support...\r\n"
       ]
      },
      {
       "output_type": "stream",
       "stream": "stdout",
       "text": [
        "I: Configuring mawk...\r\n"
       ]
      },
      {
       "output_type": "stream",
       "stream": "stdout",
       "text": [
        "I: Configuring libprocps3:amd64...\r\n"
       ]
      },
      {
       "output_type": "stream",
       "stream": "stdout",
       "text": [
        "I: Configuring libpcre3:amd64...\r\n"
       ]
      },
      {
       "output_type": "stream",
       "stream": "stdout",
       "text": [
        "I: Configuring libbz2-1.0:amd64...\r\n"
       ]
      },
      {
       "output_type": "stream",
       "stream": "stdout",
       "text": [
        "I: Configuring libkmod2:amd64...\r\n"
       ]
      },
      {
       "output_type": "stream",
       "stream": "stdout",
       "text": [
        "I: Configuring libgpg-error0:amd64...\r\n"
       ]
      },
      {
       "output_type": "stream",
       "stream": "stdout",
       "text": [
        "I: Configuring base-files...\r\n"
       ]
      },
      {
       "output_type": "stream",
       "stream": "stdout",
       "text": [
        "I: Configuring libdebconfclient0:amd64...\r\n"
       ]
      },
      {
       "output_type": "stream",
       "stream": "stdout",
       "text": [
        "I: Configuring libselinux1:amd64...\r\n"
       ]
      },
      {
       "output_type": "stream",
       "stream": "stdout",
       "text": [
        "I: Configuring libcomerr2:amd64...\r\n"
       ]
      },
      {
       "output_type": "stream",
       "stream": "stdout",
       "text": [
        "I: Configuring libslang2:amd64...\r\n"
       ]
      },
      {
       "output_type": "stream",
       "stream": "stdout",
       "text": [
        "I: Configuring libsepol1:amd64...\r\n"
       ]
      },
      {
       "output_type": "stream",
       "stream": "stdout",
       "text": [
        "I: Configuring libgcc1:amd64...\r\n"
       ]
      },
      {
       "output_type": "stream",
       "stream": "stdout",
       "text": [
        "I: Configuring libustr-1.0-1:amd64...\r\n"
       ]
      },
      {
       "output_type": "stream",
       "stream": "stdout",
       "text": [
        "I: Configuring libsmartcols1:amd64...\r\n"
       ]
      },
      {
       "output_type": "stream",
       "stream": "stdout",
       "text": [
        "I: Configuring libaudit1:amd64...\r\n"
       ]
      },
      {
       "output_type": "stream",
       "stream": "stdout",
       "text": [
        "I: Configuring libtinfo5:amd64...\r\n"
       ]
      },
      {
       "output_type": "stream",
       "stream": "stdout",
       "text": [
        "I: Configuring libudev1:amd64...\r\n"
       ]
      },
      {
       "output_type": "stream",
       "stream": "stdout",
       "text": [
        "I: Configuring libattr1:amd64...\r\n"
       ]
      },
      {
       "output_type": "stream",
       "stream": "stdout",
       "text": [
        "I: Configuring libss2:amd64...\r\n"
       ]
      },
      {
       "output_type": "stream",
       "stream": "stdout",
       "text": [
        "I: Configuring liblzma5:amd64...\r\n"
       ]
      },
      {
       "output_type": "stream",
       "stream": "stdout",
       "text": [
        "I: Configuring base-passwd...\r\n"
       ]
      },
      {
       "output_type": "stream",
       "stream": "stdout",
       "text": [
        "I: Configuring e2fslibs:amd64...\r\n"
       ]
      },
      {
       "output_type": "stream",
       "stream": "stdout",
       "text": [
        "I: Configuring libgcrypt20:amd64...\r\n"
       ]
      },
      {
       "output_type": "stream",
       "stream": "stdout",
       "text": [
        "I: Configuring libncursesw5:amd64...\r\n"
       ]
      },
      {
       "output_type": "stream",
       "stream": "stdout",
       "text": [
        "I: Configuring libuuid1:amd64...\r\n"
       ]
      },
      {
       "output_type": "stream",
       "stream": "stdout",
       "text": [
        "I: Configuring libdb5.3:amd64...\r\n"
       ]
      },
      {
       "output_type": "stream",
       "stream": "stdout",
       "text": [
        "I: Configuring zlib1g:amd64...\r\n"
       ]
      },
      {
       "output_type": "stream",
       "stream": "stdout",
       "text": [
        "I: Configuring libcap2:amd64...\r\n"
       ]
      },
      {
       "output_type": "stream",
       "stream": "stdout",
       "text": [
        "I: Configuring libsystemd0:amd64...\r\n"
       ]
      },
      {
       "output_type": "stream",
       "stream": "stdout",
       "text": [
        "I: Configuring libdevmapper1.02.1:amd64...\r\n"
       ]
      },
      {
       "output_type": "stream",
       "stream": "stdout",
       "text": [
        "I: Configuring libblkid1:amd64...\r\n"
       ]
      },
      {
       "output_type": "stream",
       "stream": "stdout",
       "text": [
        "I: Configuring libc-bin...\r\n"
       ]
      },
      {
       "output_type": "stream",
       "stream": "stdout",
       "text": [
        "I: Configuring libsemanage1:amd64...\r\n"
       ]
      },
      {
       "output_type": "stream",
       "stream": "stdout",
       "text": [
        "I: Configuring sysvinit-utils...\r\n"
       ]
      },
      {
       "output_type": "stream",
       "stream": "stdout",
       "text": [
        "I: Configuring libmount1:amd64...\r\n"
       ]
      },
      {
       "output_type": "stream",
       "stream": "stdout",
       "text": [
        "I: Configuring libacl1:amd64...\r\n"
       ]
      },
      {
       "output_type": "stream",
       "stream": "stdout",
       "text": [
        "I: Configuring ncurses-bin...\r\n"
       ]
      },
      {
       "output_type": "stream",
       "stream": "stdout",
       "text": [
        "I: Configuring acl...\r\n"
       ]
      },
      {
       "output_type": "stream",
       "stream": "stdout",
       "text": [
        "I: Configuring libcryptsetup4:amd64...\r\n"
       ]
      },
      {
       "output_type": "stream",
       "stream": "stdout",
       "text": [
        "I: Configuring libncurses5:amd64...\r\n"
       ]
      },
      {
       "output_type": "stream",
       "stream": "stdout",
       "text": [
        "I: Configuring libcap2-bin...\r\n"
       ]
      },
      {
       "output_type": "stream",
       "stream": "stdout",
       "text": [
        "I: Configuring bsdutils...\r\n"
       ]
      },
      {
       "output_type": "stream",
       "stream": "stdout",
       "text": [
        "I: Configuring mount...\r\n"
       ]
      },
      {
       "output_type": "stream",
       "stream": "stdout",
       "text": [
        "I: Configuring coreutils...\r\n"
       ]
      },
      {
       "output_type": "stream",
       "stream": "stdout",
       "text": [
        "I: Configuring tar...\r\n"
       ]
      },
      {
       "output_type": "stream",
       "stream": "stdout",
       "text": [
        "I: Configuring dpkg...\r\n"
       ]
      },
      {
       "output_type": "stream",
       "stream": "stdout",
       "text": [
        "I: Configuring sed...\r\n"
       ]
      },
      {
       "output_type": "stream",
       "stream": "stdout",
       "text": [
        "I: Configuring perl-base...\r\n"
       ]
      },
      {
       "output_type": "stream",
       "stream": "stdout",
       "text": [
        "I: Configuring grep...\r\n"
       ]
      },
      {
       "output_type": "stream",
       "stream": "stdout",
       "text": [
        "I: Configuring debconf...\r\n"
       ]
      },
      {
       "output_type": "stream",
       "stream": "stdout",
       "text": [
        "I: Configuring tzdata...\r\n"
       ]
      },
      {
       "output_type": "stream",
       "stream": "stdout",
       "text": [
        "I: Configuring gzip...\r\n"
       ]
      },
      {
       "output_type": "stream",
       "stream": "stdout",
       "text": [
        "I: Configuring dash...\r\n"
       ]
      },
      {
       "output_type": "stream",
       "stream": "stdout",
       "text": [
        "I: Configuring libtext-iconv-perl...\r\n"
       ]
      },
      {
       "output_type": "stream",
       "stream": "stdout",
       "text": [
        "I: Configuring sysv-rc...\r\n"
       ]
      },
      {
       "output_type": "stream",
       "stream": "stdout",
       "text": [
        "I: Configuring liblocale-gettext-perl...\r\n"
       ]
      },
      {
       "output_type": "stream",
       "stream": "stdout",
       "text": [
        "I: Configuring libtext-charwidth-perl...\r\n"
       ]
      },
      {
       "output_type": "stream",
       "stream": "stdout",
       "text": [
        "I: Configuring libpam0g:amd64...\r\n"
       ]
      },
      {
       "output_type": "stream",
       "stream": "stdout",
       "text": [
        "I: Configuring initscripts...\r\n"
       ]
      },
      {
       "output_type": "stream",
       "stream": "stdout",
       "text": [
        "I: Configuring util-linux...\r\n"
       ]
      },
      {
       "output_type": "stream",
       "stream": "stdout",
       "text": [
        "I: Configuring libpam-modules-bin...\r\n"
       ]
      },
      {
       "output_type": "stream",
       "stream": "stdout",
       "text": [
        "I: Configuring bash...\r\n"
       ]
      },
      {
       "output_type": "stream",
       "stream": "stdout",
       "text": [
        "I: Configuring e2fsprogs...\r\n"
       ]
      },
      {
       "output_type": "stream",
       "stream": "stdout",
       "text": [
        "I: Configuring procps...\r\n"
       ]
      },
      {
       "output_type": "stream",
       "stream": "stdout",
       "text": [
        "I: Configuring libtext-wrapi18n-perl...\r\n"
       ]
      },
      {
       "output_type": "stream",
       "stream": "stdout",
       "text": [
        "I: Configuring dmsetup...\r\n"
       ]
      },
      {
       "output_type": "stream",
       "stream": "stdout",
       "text": [
        "I: Configuring libpam-modules:amd64...\r\n"
       ]
      },
      {
       "output_type": "stream",
       "stream": "stdout",
       "text": [
        "I: Configuring libpam-runtime...\r\n"
       ]
      },
      {
       "output_type": "stream",
       "stream": "stdout",
       "text": [
        "I: Configuring debconf-i18n...\r\n"
       ]
      },
      {
       "output_type": "stream",
       "stream": "stdout",
       "text": [
        "I: Configuring passwd...\r\n"
       ]
      },
      {
       "output_type": "stream",
       "stream": "stdout",
       "text": [
        "I: Configuring login...\r\n"
       ]
      },
      {
       "output_type": "stream",
       "stream": "stdout",
       "text": [
        "I: Configuring adduser...\r\n"
       ]
      },
      {
       "output_type": "stream",
       "stream": "stdout",
       "text": [
        "I: Configuring udev...\r\n"
       ]
      },
      {
       "output_type": "stream",
       "stream": "stdout",
       "text": [
        "I: Configuring systemd...\r\n"
       ]
      },
      {
       "output_type": "stream",
       "stream": "stdout",
       "text": [
        "I: Configuring systemd-sysv...\r\n"
       ]
      },
      {
       "output_type": "stream",
       "stream": "stdout",
       "text": [
        "I: Configuring init...\r\n"
       ]
      },
      {
       "output_type": "stream",
       "stream": "stdout",
       "text": [
        "I: Configuring libc-bin...\r\n"
       ]
      },
      {
       "output_type": "stream",
       "stream": "stdout",
       "text": [
        "I: Unpacking the base system...\r\n"
       ]
      },
      {
       "output_type": "stream",
       "stream": "stdout",
       "text": [
        "I: Unpacking apt...\r\n"
       ]
      },
      {
       "output_type": "stream",
       "stream": "stdout",
       "text": [
        "I: Unpacking libapt-pkg4.12:amd64...\r\n"
       ]
      },
      {
       "output_type": "stream",
       "stream": "stdout",
       "text": [
        "I: Unpacking binutils...\r\n"
       ]
      },
      {
       "output_type": "stream",
       "stream": "stdout",
       "text": [
        "I: Unpacking build-essential...\r\n"
       ]
      },
      {
       "output_type": "stream",
       "stream": "stdout",
       "text": [
        "I: Unpacking bzip2...\r\n"
       ]
      },
      {
       "output_type": "stream",
       "stream": "stdout",
       "text": [
        "I: Unpacking libcloog-isl4:amd64...\r\n"
       ]
      },
      {
       "output_type": "stream",
       "stream": "stdout",
       "text": [
        "I: Unpacking debian-archive-keyring...\r\n"
       ]
      },
      {
       "output_type": "stream",
       "stream": "stdout",
       "text": [
        "I: Unpacking dpkg-dev...\r\n"
       ]
      },
      {
       "output_type": "stream",
       "stream": "stdout",
       "text": [
        "I: Unpacking libdpkg-perl...\r\n"
       ]
      },
      {
       "output_type": "stream",
       "stream": "stdout",
       "text": [
        "I: Unpacking cpp-4.9...\r\n"
       ]
      },
      {
       "output_type": "stream",
       "stream": "stdout",
       "text": [
        "I: Unpacking g++-4.9...\r\n"
       ]
      },
      {
       "output_type": "stream",
       "stream": "stdout",
       "text": [
        "I: Unpacking gcc-4.9...\r\n"
       ]
      },
      {
       "output_type": "stream",
       "stream": "stdout",
       "text": [
        "I: Unpacking libasan1:amd64...\r\n"
       ]
      },
      {
       "output_type": "stream",
       "stream": "stdout",
       "text": [
        "I: Unpacking libatomic1:amd64...\r\n"
       ]
      },
      {
       "output_type": "stream",
       "stream": "stdout",
       "text": [
        "I: Unpacking libcilkrts5:amd64...\r\n"
       ]
      },
      {
       "output_type": "stream",
       "stream": "stdout",
       "text": [
        "I: Unpacking libgcc-4.9-dev:amd64...\r\n"
       ]
      },
      {
       "output_type": "stream",
       "stream": "stdout",
       "text": [
        "I: Unpacking libgomp1:amd64...\r\n"
       ]
      },
      {
       "output_type": "stream",
       "stream": "stdout",
       "text": [
        "I: Unpacking libitm1:amd64...\r\n"
       ]
      },
      {
       "output_type": "stream",
       "stream": "stdout",
       "text": [
        "I: Unpacking liblsan0:amd64...\r\n"
       ]
      },
      {
       "output_type": "stream",
       "stream": "stdout",
       "text": [
        "I: Unpacking libquadmath0:amd64...\r\n"
       ]
      },
      {
       "output_type": "stream",
       "stream": "stdout",
       "text": [
        "I: Unpacking libstdc++-4.9-dev:amd64...\r\n"
       ]
      },
      {
       "output_type": "stream",
       "stream": "stdout",
       "text": [
        "I: Unpacking libstdc++6:amd64...\r\n"
       ]
      },
      {
       "output_type": "stream",
       "stream": "stdout",
       "text": [
        "I: Unpacking libtsan0:amd64...\r\n"
       ]
      },
      {
       "output_type": "stream",
       "stream": "stdout",
       "text": [
        "I: Unpacking libubsan0:amd64...\r\n"
       ]
      },
      {
       "output_type": "stream",
       "stream": "stdout",
       "text": [
        "I: Unpacking cpp...\r\n"
       ]
      },
      {
       "output_type": "stream",
       "stream": "stdout",
       "text": [
        "I: Unpacking g++...\r\n"
       ]
      },
      {
       "output_type": "stream",
       "stream": "stdout",
       "text": [
        "I: Unpacking gcc...\r\n"
       ]
      },
      {
       "output_type": "stream",
       "stream": "stdout",
       "text": [
        "I: Unpacking libgdbm3:amd64...\r\n"
       ]
      },
      {
       "output_type": "stream",
       "stream": "stdout",
       "text": [
        "I: Unpacking libc-dev-bin...\r\n"
       ]
      },
      {
       "output_type": "stream",
       "stream": "stdout",
       "text": [
        "I: Unpacking libc6-dev:amd64...\r\n"
       ]
      },
      {
       "output_type": "stream",
       "stream": "stdout",
       "text": [
        "I: Unpacking libgmp10:amd64...\r\n"
       ]
      },
      {
       "output_type": "stream",
       "stream": "stdout",
       "text": [
        "I: Unpacking gnupg...\r\n"
       ]
      },
      {
       "output_type": "stream",
       "stream": "stdout",
       "text": [
        "I: Unpacking gpgv...\r\n"
       ]
      },
      {
       "output_type": "stream",
       "stream": "stdout",
       "text": [
        "I: Unpacking libisl10:amd64...\r\n"
       ]
      },
      {
       "output_type": "stream",
       "stream": "stdout",
       "text": [
        "I: Unpacking libtimedate-perl...\r\n"
       ]
      },
      {
       "output_type": "stream",
       "stream": "stdout",
       "text": [
        "I: Unpacking libusb-0.1-4:amd64...\r\n"
       ]
      },
      {
       "output_type": "stream",
       "stream": "stdout",
       "text": [
        "I: Unpacking linux-libc-dev:amd64...\r\n"
       ]
      },
      {
       "output_type": "stream",
       "stream": "stdout",
       "text": [
        "I: Unpacking make...\r\n"
       ]
      },
      {
       "output_type": "stream",
       "stream": "stdout",
       "text": [
        "I: Unpacking libmpc3:amd64...\r\n"
       ]
      },
      {
       "output_type": "stream",
       "stream": "stdout",
       "text": [
        "I: Unpacking libmpfr4:amd64...\r\n"
       ]
      },
      {
       "output_type": "stream",
       "stream": "stdout",
       "text": [
        "I: Unpacking patch...\r\n"
       ]
      },
      {
       "output_type": "stream",
       "stream": "stdout",
       "text": [
        "I: Unpacking perl...\r\n"
       ]
      },
      {
       "output_type": "stream",
       "stream": "stdout",
       "text": [
        "I: Unpacking perl-modules...\r\n"
       ]
      },
      {
       "output_type": "stream",
       "stream": "stdout",
       "text": [
        "I: Unpacking libreadline6:amd64...\r\n"
       ]
      },
      {
       "output_type": "stream",
       "stream": "stdout",
       "text": [
        "I: Unpacking readline-common...\r\n"
       ]
      },
      {
       "output_type": "stream",
       "stream": "stdout",
       "text": [
        "I: Unpacking xz-utils...\r\n"
       ]
      },
      {
       "output_type": "stream",
       "stream": "stdout",
       "text": [
        "I: Configuring the base system...\r\n"
       ]
      },
      {
       "output_type": "stream",
       "stream": "stdout",
       "text": [
        "I: Configuring libquadmath0:amd64...\r\n"
       ]
      },
      {
       "output_type": "stream",
       "stream": "stdout",
       "text": [
        "I: Configuring libgomp1:amd64...\r\n"
       ]
      },
      {
       "output_type": "stream",
       "stream": "stdout",
       "text": [
        "I: Configuring libatomic1:amd64...\r\n"
       ]
      },
      {
       "output_type": "stream",
       "stream": "stdout",
       "text": [
        "I: Configuring readline-common...\r\n"
       ]
      },
      {
       "output_type": "stream",
       "stream": "stdout",
       "text": [
        "I: Configuring libgdbm3:amd64...\r\n"
       ]
      },
      {
       "output_type": "stream",
       "stream": "stdout",
       "text": [
        "I: Configuring make...\r\n"
       ]
      },
      {
       "output_type": "stream",
       "stream": "stdout",
       "text": [
        "I: Configuring gpgv...\r\n"
       ]
      },
      {
       "output_type": "stream",
       "stream": "stdout",
       "text": [
        "I: Configuring linux-libc-dev:amd64...\r\n"
       ]
      },
      {
       "output_type": "stream",
       "stream": "stdout",
       "text": [
        "I: Configuring bzip2...\r\n"
       ]
      },
      {
       "output_type": "stream",
       "stream": "stdout",
       "text": [
        "I: Configuring libgmp10:amd64...\r\n"
       ]
      },
      {
       "output_type": "stream",
       "stream": "stdout",
       "text": [
        "I: Configuring patch...\r\n"
       ]
      },
      {
       "output_type": "stream",
       "stream": "stdout",
       "text": [
        "I: Configuring xz-utils...\r\n"
       ]
      },
      {
       "output_type": "stream",
       "stream": "stdout",
       "text": [
        "I: Configuring debian-archive-keyring...\r\n"
       ]
      },
      {
       "output_type": "stream",
       "stream": "stdout",
       "text": [
        "I: Configuring libisl10:amd64...\r\n"
       ]
      },
      {
       "output_type": "stream",
       "stream": "stdout",
       "text": [
        "I: Configuring libmpfr4:amd64...\r\n"
       ]
      },
      {
       "output_type": "stream",
       "stream": "stdout",
       "text": [
        "I: Configuring libcloog-isl4:amd64...\r\n"
       ]
      },
      {
       "output_type": "stream",
       "stream": "stdout",
       "text": [
        "I: Configuring libmpc3:amd64...\r\n"
       ]
      },
      {
       "output_type": "stream",
       "stream": "stdout",
       "text": [
        "I: Configuring libstdc++6:amd64...\r\n"
       ]
      },
      {
       "output_type": "stream",
       "stream": "stdout",
       "text": [
        "I: Configuring binutils...\r\n"
       ]
      },
      {
       "output_type": "stream",
       "stream": "stdout",
       "text": [
        "I: Configuring libc-dev-bin...\r\n"
       ]
      },
      {
       "output_type": "stream",
       "stream": "stdout",
       "text": [
        "I: Configuring libc6-dev:amd64...\r\n"
       ]
      },
      {
       "output_type": "stream",
       "stream": "stdout",
       "text": [
        "I: Configuring libapt-pkg4.12:amd64...\r\n"
       ]
      },
      {
       "output_type": "stream",
       "stream": "stdout",
       "text": [
        "I: Configuring libusb-0.1-4:amd64...\r\n"
       ]
      },
      {
       "output_type": "stream",
       "stream": "stdout",
       "text": [
        "I: Configuring libitm1:amd64...\r\n"
       ]
      },
      {
       "output_type": "stream",
       "stream": "stdout",
       "text": [
        "I: Configuring libreadline6:amd64...\r\n"
       ]
      },
      {
       "output_type": "stream",
       "stream": "stdout",
       "text": [
        "I: Configuring libcilkrts5:amd64...\r\n"
       ]
      },
      {
       "output_type": "stream",
       "stream": "stdout",
       "text": [
        "I: Configuring libubsan0:amd64...\r\n"
       ]
      },
      {
       "output_type": "stream",
       "stream": "stdout",
       "text": [
        "I: Configuring libtsan0:amd64...\r\n"
       ]
      },
      {
       "output_type": "stream",
       "stream": "stdout",
       "text": [
        "I: Configuring gnupg...\r\n"
       ]
      },
      {
       "output_type": "stream",
       "stream": "stdout",
       "text": [
        "I: Configuring cpp-4.9...\r\n"
       ]
      },
      {
       "output_type": "stream",
       "stream": "stdout",
       "text": [
        "I: Configuring liblsan0:amd64...\r\n"
       ]
      },
      {
       "output_type": "stream",
       "stream": "stdout",
       "text": [
        "I: Configuring libasan1:amd64...\r\n"
       ]
      },
      {
       "output_type": "stream",
       "stream": "stdout",
       "text": [
        "I: Configuring libgcc-4.9-dev:amd64...\r\n"
       ]
      },
      {
       "output_type": "stream",
       "stream": "stdout",
       "text": [
        "I: Configuring apt...\r\n"
       ]
      },
      {
       "output_type": "stream",
       "stream": "stdout",
       "text": [
        "I: Configuring libstdc++-4.9-dev:amd64...\r\n"
       ]
      },
      {
       "output_type": "stream",
       "stream": "stdout",
       "text": [
        "I: Configuring cpp...\r\n"
       ]
      },
      {
       "output_type": "stream",
       "stream": "stdout",
       "text": [
        "I: Configuring gcc-4.9...\r\n"
       ]
      },
      {
       "output_type": "stream",
       "stream": "stdout",
       "text": [
        "I: Configuring gcc...\r\n"
       ]
      },
      {
       "output_type": "stream",
       "stream": "stdout",
       "text": [
        "I: Configuring g++-4.9...\r\n"
       ]
      },
      {
       "output_type": "stream",
       "stream": "stdout",
       "text": [
        "I: Configuring g++...\r\n"
       ]
      },
      {
       "output_type": "stream",
       "stream": "stdout",
       "text": [
        "I: Configuring perl-modules...\r\n"
       ]
      },
      {
       "output_type": "stream",
       "stream": "stdout",
       "text": [
        "I: Configuring perl...\r\n"
       ]
      },
      {
       "output_type": "stream",
       "stream": "stdout",
       "text": [
        "I: Configuring libtimedate-perl...\r\n"
       ]
      },
      {
       "output_type": "stream",
       "stream": "stdout",
       "text": [
        "I: Configuring libdpkg-perl...\r\n"
       ]
      },
      {
       "output_type": "stream",
       "stream": "stdout",
       "text": [
        "I: Configuring dpkg-dev...\r\n"
       ]
      },
      {
       "output_type": "stream",
       "stream": "stdout",
       "text": [
        "I: Configuring build-essential...\r\n"
       ]
      },
      {
       "output_type": "stream",
       "stream": "stdout",
       "text": [
        "I: Configuring libc-bin...\r\n"
       ]
      },
      {
       "output_type": "stream",
       "stream": "stdout",
       "text": [
        "I: Base system installed successfully.\r\n"
       ]
      }
     ],
     "prompt_number": 11
    },
    {
     "cell_type": "code",
     "collapsed": false,
     "input": [
      "!schroot -l"
     ],
     "language": "python",
     "metadata": {},
     "outputs": [
      {
       "output_type": "stream",
       "stream": "stdout",
       "text": [
        "chroot:sid-jail\r\n"
       ]
      }
     ],
     "prompt_number": 16
    },
    {
     "cell_type": "code",
     "collapsed": false,
     "input": [
      "!ls -di /"
     ],
     "language": "python",
     "metadata": {},
     "outputs": [
      {
       "output_type": "stream",
       "stream": "stdout",
       "text": [
        "2 /\r\n"
       ]
      }
     ],
     "prompt_number": 17
    },
    {
     "cell_type": "code",
     "collapsed": false,
     "input": [
      "!schroot -c chroot:sid-jail --directory / -- ls -di /"
     ],
     "language": "python",
     "metadata": {},
     "outputs": [
      {
       "output_type": "stream",
       "stream": "stdout",
       "text": [
        "4719203 /\r\n"
       ]
      }
     ],
     "prompt_number": 18
    },
    {
     "cell_type": "markdown",
     "metadata": {},
     "source": [
      "## Snapshot schroot"
     ]
    },
    {
     "cell_type": "code",
     "collapsed": false,
     "input": [
      "%%file /etc/schroot/chroot.d/sample-snap\n",
      "\n",
      "[snap-sid-jail]\n",
      "description=Debian sid jail\n",
      "type=file\n",
      "file=/var/spool/jails/sid-jail.tar\n",
      "setup.fstab=default/fstab"
     ],
     "language": "python",
     "metadata": {},
     "outputs": [
      {
       "output_type": "stream",
       "stream": "stdout",
       "text": [
        "Writing /etc/schroot/chroot.d/sample-snap\n"
       ]
      }
     ],
     "prompt_number": 19
    },
    {
     "cell_type": "code",
     "collapsed": false,
     "input": [
      "!tar cf /var/spool/jails/sid-jail.tar -C /var/spool/jails/sid-jail ."
     ],
     "language": "python",
     "metadata": {},
     "outputs": [],
     "prompt_number": 20
    },
    {
     "cell_type": "code",
     "collapsed": false,
     "input": [
      "!schroot -l"
     ],
     "language": "python",
     "metadata": {},
     "outputs": [
      {
       "output_type": "stream",
       "stream": "stdout",
       "text": [
        "chroot:sid-jail\r\n",
        "chroot:snap-sid-jail\r\n",
        "source:snap-sid-jail\r\n"
       ]
      }
     ],
     "prompt_number": 21
    },
    {
     "cell_type": "markdown",
     "metadata": {},
     "source": [
      "Changes in de snap chroot are volatile:"
     ]
    },
    {
     "cell_type": "code",
     "collapsed": false,
     "input": [
      "!schroot -c chroot:snap-sid-jail -- dpkg -l hello"
     ],
     "language": "python",
     "metadata": {},
     "outputs": [
      {
       "output_type": "stream",
       "stream": "stdout",
       "text": [
        "dpkg-query: no packages found matching hello\r\n"
       ]
      }
     ],
     "prompt_number": 22
    },
    {
     "cell_type": "code",
     "collapsed": false,
     "input": [
      "!schroot -c chroot:snap-sid-jail -- apt-get install hello"
     ],
     "language": "python",
     "metadata": {},
     "outputs": [
      {
       "output_type": "stream",
       "stream": "stdout",
       "text": [
        "\r",
        "Reading package lists... 0%\r"
       ]
      },
      {
       "output_type": "stream",
       "stream": "stdout",
       "text": [
        "\r",
        "Reading package lists... 0%\r",
        "\r",
        "Reading package lists... 1%\r"
       ]
      },
      {
       "output_type": "stream",
       "stream": "stdout",
       "text": [
        "\r",
        "Reading package lists... 55%\r"
       ]
      },
      {
       "output_type": "stream",
       "stream": "stdout",
       "text": [
        "\r",
        "Reading package lists... 97%\r"
       ]
      },
      {
       "output_type": "stream",
       "stream": "stdout",
       "text": [
        "\r",
        "Reading package lists... 99%\r",
        "\r",
        "Reading package lists... 99%\r"
       ]
      },
      {
       "output_type": "stream",
       "stream": "stdout",
       "text": [
        "\r",
        "Reading package lists... Done\r",
        "\r\n",
        "\r",
        "Building dependency tree... 0%\r",
        "\r",
        "Building dependency tree... 0%\r"
       ]
      },
      {
       "output_type": "stream",
       "stream": "stdout",
       "text": [
        "\r",
        "Building dependency tree... 40%\r",
        "\r",
        "Building dependency tree... 50%\r",
        "\r",
        "Building dependency tree... 50%\r"
       ]
      },
      {
       "output_type": "stream",
       "stream": "stdout",
       "text": [
        "\r",
        "Building dependency tree... Done\r",
        "\r\n"
       ]
      },
      {
       "output_type": "stream",
       "stream": "stdout",
       "text": [
        "The following NEW packages will be installed:\r\n",
        "  hello\r\n",
        "0 upgraded, 1 newly installed, 0 to remove and 0 not upgraded.\r\n",
        "Need to get 50.6 kB of archives.\r\n",
        "After this operation, 531 kB of additional disk space will be used.\r\n"
       ]
      },
      {
       "output_type": "stream",
       "stream": "stdout",
       "text": [
        "\r",
        "\r",
        "0% [Working]\r",
        "            \r",
        "Get:1 http://babel.esi.uclm.es/debian/ unstable/main hello amd64 2.9-2 [50.6 kB]\r\n",
        "\r",
        "            \r",
        "0% [1 hello 0 B/50.6 kB 0%]\r",
        "                           \r",
        "100% [Working]\r",
        "              \r",
        "Fetched 50.6 kB in 0s (1660 kB/s)\r\n"
       ]
      },
      {
       "output_type": "stream",
       "stream": "stdout",
       "text": [
        "debconf: delaying package configuration, since apt-utils is not installed\r\n"
       ]
      },
      {
       "output_type": "stream",
       "stream": "stdout",
       "text": [
        "Selecting previously unselected package hello.\r\n",
        "(Reading database ... \r",
        "(Reading database ... 5%\r",
        "(Reading database ... 10%\r",
        "(Reading database ... 15%\r",
        "(Reading database ... 20%\r",
        "(Reading database ... 25%\r",
        "(Reading database ... 30%\r",
        "(Reading database ... 35%\r",
        "(Reading database ... 40%\r",
        "(Reading database ... 45%\r",
        "(Reading database ... 50%\r",
        "(Reading database ... 55%\r",
        "(Reading database ... 60%\r",
        "(Reading database ... 65%\r",
        "(Reading database ... 70%\r",
        "(Reading database ... 75%\r",
        "(Reading database ... 80%\r",
        "(Reading database ... 85%\r",
        "(Reading database ... 90%\r",
        "(Reading database ... 95%\r",
        "(Reading database ... 100%\r",
        "(Reading database ... 11751 files and directories currently installed.)\r\n",
        "Preparing to unpack .../archives/hello_2.9-2_amd64.deb ...\r\n"
       ]
      },
      {
       "output_type": "stream",
       "stream": "stdout",
       "text": [
        "Unpacking hello (2.9-2) ...\r\n"
       ]
      }
     ],
     "prompt_number": 23
    },
    {
     "cell_type": "code",
     "collapsed": false,
     "input": [
      "!schroot -c chroot:snap-sid-jail -- dpkg -l hello"
     ],
     "language": "python",
     "metadata": {},
     "outputs": [
      {
       "output_type": "stream",
       "stream": "stdout",
       "text": [
        "dpkg-query: no packages found matching hello\r\n"
       ]
      }
     ],
     "prompt_number": 24
    },
    {
     "cell_type": "markdown",
     "metadata": {},
     "source": [
      "But changes in the \"source\" chroot are persistent:"
     ]
    },
    {
     "cell_type": "code",
     "collapsed": false,
     "input": [
      "!schroot -c source:snap-sid-jail -- dpkg -l hello"
     ],
     "language": "python",
     "metadata": {},
     "outputs": [
      {
       "output_type": "stream",
       "stream": "stdout",
       "text": [
        "dpkg-query: no packages found matching hello\r\n"
       ]
      }
     ],
     "prompt_number": 25
    },
    {
     "cell_type": "code",
     "collapsed": false,
     "input": [
      "!schroot -c source:snap-sid-jail -- apt-get install hello"
     ],
     "language": "python",
     "metadata": {},
     "outputs": [
      {
       "output_type": "stream",
       "stream": "stdout",
       "text": [
        "\r",
        "Reading package lists... 0%\r"
       ]
      },
      {
       "output_type": "stream",
       "stream": "stdout",
       "text": [
        "\r",
        "Reading package lists... 0%\r",
        "\r",
        "Reading package lists... 1%\r"
       ]
      },
      {
       "output_type": "stream",
       "stream": "stdout",
       "text": [
        "\r",
        "Reading package lists... 56%\r"
       ]
      },
      {
       "output_type": "stream",
       "stream": "stdout",
       "text": [
        "\r",
        "Reading package lists... 99%\r"
       ]
      },
      {
       "output_type": "stream",
       "stream": "stdout",
       "text": [
        "\r",
        "Reading package lists... 99%\r",
        "\r",
        "Reading package lists... 99%\r"
       ]
      },
      {
       "output_type": "stream",
       "stream": "stdout",
       "text": [
        "\r",
        "Reading package lists... Done\r",
        "\r\n",
        "\r",
        "Building dependency tree... 0%\r",
        "\r",
        "Building dependency tree... 0%\r"
       ]
      },
      {
       "output_type": "stream",
       "stream": "stdout",
       "text": [
        "\r",
        "Building dependency tree... 50%\r",
        "\r",
        "Building dependency tree... 50%\r"
       ]
      },
      {
       "output_type": "stream",
       "stream": "stdout",
       "text": [
        "\r",
        "Building dependency tree... 81%\r"
       ]
      },
      {
       "output_type": "stream",
       "stream": "stdout",
       "text": [
        "\r",
        "Building dependency tree... Done\r",
        "\r\n"
       ]
      },
      {
       "output_type": "stream",
       "stream": "stdout",
       "text": [
        "The following NEW packages will be installed:\r\n",
        "  hello\r\n"
       ]
      },
      {
       "output_type": "stream",
       "stream": "stdout",
       "text": [
        "0 upgraded, 1 newly installed, 0 to remove and 0 not upgraded.\r\n",
        "Need to get 50.6 kB of archives.\r\n",
        "After this operation, 531 kB of additional disk space will be used.\r\n",
        "\r",
        "\r",
        "0% [Working]"
       ]
      },
      {
       "output_type": "stream",
       "stream": "stdout",
       "text": [
        "\r",
        "            \r",
        "Get:1 http://babel.esi.uclm.es/debian/ unstable/main hello amd64 2.9-2 [50.6 kB]\r\n",
        "\r",
        "            \r",
        "0% [1 hello 0 B/50.6 kB 0%]\r",
        "                           \r",
        "100% [Working]\r",
        "              \r",
        "Fetched 50.6 kB in 0s (0 B/s)\r\n"
       ]
      },
      {
       "output_type": "stream",
       "stream": "stdout",
       "text": [
        "debconf: delaying package configuration, since apt-utils is not installed\r\n"
       ]
      },
      {
       "output_type": "stream",
       "stream": "stdout",
       "text": [
        "Selecting previously unselected package hello.\r\n",
        "(Reading database ... \r",
        "(Reading database ... 5%\r",
        "(Reading database ... 10%\r",
        "(Reading database ... 15%\r",
        "(Reading database ... 20%\r",
        "(Reading database ... 25%\r",
        "(Reading database ... 30%\r",
        "(Reading database ... 35%\r",
        "(Reading database ... 40%\r",
        "(Reading database ... 45%\r",
        "(Reading database ... 50%\r",
        "(Reading database ... 55%\r",
        "(Reading database ... 60%\r",
        "(Reading database ... 65%\r",
        "(Reading database ... 70%\r",
        "(Reading database ... 75%\r",
        "(Reading database ... 80%\r",
        "(Reading database ... 85%\r",
        "(Reading database ... 90%\r",
        "(Reading database ... 95%\r",
        "(Reading database ... 100%\r",
        "(Reading database ... 11751 files and directories currently installed.)\r\n",
        "Preparing to unpack .../archives/hello_2.9-2_amd64.deb ...\r\n"
       ]
      },
      {
       "output_type": "stream",
       "stream": "stdout",
       "text": [
        "Unpacking hello (2.9-2) ...\r\n"
       ]
      }
     ],
     "prompt_number": 28
    },
    {
     "cell_type": "code",
     "collapsed": false,
     "input": [
      "!schroot -c source:snap-sid-jail -- dpkg -l hello"
     ],
     "language": "python",
     "metadata": {},
     "outputs": [
      {
       "output_type": "stream",
       "stream": "stdout",
       "text": [
        "Desired=Unknown/Install/Remove/Purge/Hold\r\n",
        "| Status=Not/Inst/Conf-files/Unpacked/halF-conf/Half-inst/trig-aWait/Trig-pend\r\n",
        "|/ Err?=(none)/Reinst-required (Status,Err: uppercase=bad)\r\n",
        "||/ Name           Version      Architecture Description\r\n",
        "+++-==============-============-============-=================================\r\n",
        "ii  hello          2.9-2        amd64        example package based on GNU hell\r\n"
       ]
      }
     ],
     "prompt_number": 29
    },
    {
     "cell_type": "markdown",
     "metadata": {},
     "source": [
      "And the changes are available in the snapshot chroot:"
     ]
    },
    {
     "cell_type": "code",
     "collapsed": false,
     "input": [
      "!schroot -c chroot:snap-sid-jail -- dpkg -l hello"
     ],
     "language": "python",
     "metadata": {},
     "outputs": [
      {
       "output_type": "stream",
       "stream": "stdout",
       "text": [
        "Desired=Unknown/Install/Remove/Purge/Hold\r\n",
        "| Status=Not/Inst/Conf-files/Unpacked/halF-conf/Half-inst/trig-aWait/Trig-pend\r\n",
        "|/ Err?=(none)/Reinst-required (Status,Err: uppercase=bad)\r\n",
        "||/ Name           Version      Architecture Description\r\n",
        "+++-==============-============-============-=================================\r\n",
        "ii  hello          2.9-2        amd64        example package based on GNU hell\r\n"
       ]
      }
     ],
     "prompt_number": 30
    }
   ],
   "metadata": {}
  }
 ]
}